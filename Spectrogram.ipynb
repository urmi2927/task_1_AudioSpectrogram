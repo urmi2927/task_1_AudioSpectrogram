{
 "cells": [
  {
   "cell_type": "code",
   "execution_count": null,
   "id": "a546bb91",
   "metadata": {},
   "outputs": [],
   "source": [
    "import librosa\n",
    "audio = 'data.wav'\n",
    "x, sr = librosa.load(audio)\n",
    "X = librosa.stft(x)\n",
    "Xdb = librosa.amplitude_to_db(abs(X))\n",
    "plt.figure(figsize = (10, 5))\n",
    "librosa.display.specshow(Xdb, sr = sr, x_axis = 'time', y_axis = 'hz')\n",
    "plt.colorbar()"
   ]
  }
 ],
 "metadata": {
  "kernelspec": {
   "display_name": "Python 3",
   "language": "python",
   "name": "python3"
  },
  "language_info": {
   "codemirror_mode": {
    "name": "ipython",
    "version": 3
   },
   "file_extension": ".py",
   "mimetype": "text/x-python",
   "name": "python",
   "nbconvert_exporter": "python",
   "pygments_lexer": "ipython3",
   "version": "3.8.8"
  }
 },
 "nbformat": 4,
 "nbformat_minor": 5
}
